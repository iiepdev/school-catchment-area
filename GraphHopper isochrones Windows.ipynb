{
 "cells": [
  {
   "cell_type": "markdown",
   "metadata": {},
   "source": [
    "# Isohrones with GraphHopper to evaluate school accessibility"
   ]
  },
  {
   "cell_type": "markdown",
   "metadata": {},
   "source": [
    "This notebook is an example how Python code can be used to generate accessibility isochrones to point data with [GrapHopper open source routing engine.](https://github.com/graphhopper/graphhopper)\n",
    "\n",
    "First commands in the notebook are shell commands which have been tested on Windows. As GrapHopper relies on Java, first start by checking your Java version.\n",
    "\n",
    "The following code should be run from the Command Prompt, which can be accessed by clicking Windows + R, and then typing \"cmd\".\n"
   ]
  },
  {
   "cell_type": "markdown",
   "metadata": {},
   "source": [
    "``` sh\n",
    "java -version\n",
    "pip install maven --user\n",
    "pip install json\n",
    "pip install geojason\n",
    "pip install folium\n",
    "``` "
   ]
  },
  {
   "cell_type": "markdown",
   "metadata": {},
   "source": [
    "This command should return you something like this. Exact output depends on your versions."
   ]
  },
  {
   "cell_type": "markdown",
   "metadata": {},
   "source": [
    "```\n",
    "java version \"1.8.0_281\"\n",
    "Java(TM) SE Runtime Environment (build 1.8.0_281-b09)\n",
    "Java HotSpot(TM) 64-Bit Server VM (build 25.281-b09, mixed mode)\n",
    "```"
   ]
  },
  {
   "cell_type": "markdown",
   "metadata": {},
   "source": [
    "Next up if your Java installation is in order, it is time to prepare your GrahHopper instance. Note that you also need git on your machine to run the following commands. You only need to do this the first time."
   ]
  },
  {
   "cell_type": "markdown",
   "metadata": {},
   "source": [
    "```sh\n",
    "git clone git://github.com/graphhopper/graphhopper.git\n",
    "mkdir graphhopper\n",
    "cd graphhopper\n",
    "git checkout 2.0\n",
    "```"
   ]
  },
  {
   "cell_type": "markdown",
   "metadata": {},
   "source": [
    "Next download OSM pbf file to your GraphHopper folder. You can find country extracts e.g. from GeoFabrik. Here we download the extract of Jamaica in osm.pbf format which is about 40 mb in size. An alternative, in case the user does not have GUI Wget, is to download this link, and store it in the same folder as graphhopper."
   ]
  },
  {
   "cell_type": "markdown",
   "metadata": {},
   "source": [
    "```sh\n",
    "wget https://download.geofabrik.de/central-america/jamaica-latest.osm.pbf\n",
    "```"
   ]
  },
  {
   "cell_type": "markdown",
   "metadata": {},
   "source": [
    "GraphHopper contains config file (config.yml) which defines parameters for the routing engine. Soe for example which vehicle is used for routing and which kind of restrictions should be taken into account. Make a copy of config.yml and modify it accordingly. In our example we are looking at hiking routes as we want to take all paths and routes in to account for school accessibility. Configuration also defines how far from the network the points can be.\n",
    "\n",
    "Once you have loaded the dataset to your folder, you can start GraphHopper routing engine with the following command:"
   ]
  },
  {
   "cell_type": "markdown",
   "metadata": {},
   "source": [
    "```sh\n",
    "graphhopper.sh -a web -i jamaica-latest.osm.pbf -p hike \n",
    "```"
   ]
  },
  {
   "cell_type": "markdown",
   "metadata": {},
   "source": [
    "Go in your browser to the address http://localhost:8989/ and you shoud see a routing demo\n",
    "\n",
    "Test also this [URL](http://localhost:8989/isochrone?point=18%2C-76.8&time_limit=1800&vehicle=hike&buckets=4)  and it should return you an isochrone in a text format. Now that the API is working, you can import the necessary Python libraries by running the following cell.\n",
    "\n"
   ]
  },
  {
   "cell_type": "code",
   "execution_count": null,
   "metadata": {},
   "outputs": [],
   "source": [
    "import requests\n",
    "import json\n",
    "from geojson import Feature, Polygon, FeatureCollection\n",
    "import folium # https://python-visualization.github.io/folium/\n"
   ]
  },
  {
   "cell_type": "markdown",
   "metadata": {},
   "source": [
    "If some of the imports fail on your machine, you can install the necessary packages e.g. via pip. \n",
    "\n",
    "In the API parameters time limit defines the distance traveled in seconds. The number of buckets instead defines how many isochrones are created with the set distance. \n",
    "\n",
    "So e.g. with the default settings of the time limit is set to 7200 and the number of buckets is 4, this means that the sample request will generate isochrones for 30, 60, 90 and 120 minutes. "
   ]
  },
  {
   "cell_type": "code",
   "execution_count": null,
   "metadata": {},
   "outputs": [],
   "source": [
    "startPoint=[18,-76.8]\n",
    "# Specify the start coordinate. Here we use a random coordinate pair in Jamaica to represent imaginary school location. \n",
    "\n",
    "travelTime = 7200\n",
    "# Specify which time the vehicle should travel. In seconds.\n",
    "\n",
    "vehicleType = 'hike'\n",
    "# The vehicle profile for which the route should be calculated.\n",
    "\n",
    "bucketNo = 4\n",
    "# Number by which to divide the given time_limit to create buckets nested isochrones of time intervals time_limit-n*time_limit/buckets.\n",
    "\n",
    "reverseFlow = 'true'\n",
    "# if true the flow goes from the polygon \"inside\" to the point.So in our case towards the school\n",
    "\n",
    "\n",
    "m = folium.Map(location=(startPoint[0],startPoint[1]), zoom_start=12)\n",
    "\n",
    "api_params = {\n",
    "    'point': '',\n",
    "    'time_limit': '',\n",
    "    'vehicle': '',\n",
    "    'buckets': '',\n",
    "    'reverse_flow': ''\n",
    "}\n",
    "startCoordinates = \",\".join(map(str, startPoint))\n",
    "api_params.update(point=startCoordinates, time_limit=travelTime, vehicle = vehicleType, buckets = bucketNo, reverse_flow = reverseFlow)\n",
    "\n",
    "api_url =  'http://localhost:8989/isochrone'"
   ]
  },
  {
   "cell_type": "markdown",
   "metadata": {},
   "source": [
    "Next we will generate that isochrone with GraphHopper and visualize it with [Folium](https://python-visualization.github.io/folium/). "
   ]
  },
  {
   "cell_type": "code",
   "execution_count": null,
   "metadata": {
    "scrolled": false
   },
   "outputs": [],
   "source": [
    "r = requests.get(api_url, params=api_params)\n",
    "isochrone = r.json()\n",
    "feature_list = []\n",
    "i = 0\n",
    "\n",
    "for i in range(0,bucketNo):\n",
    "    coordinates = isochrone['polygons'][i]['geometry']['coordinates']\n",
    "\n",
    "    bucket_feature = Feature(geometry = Polygon(coordinates))   \n",
    "    feature_list.append(bucket_feature)\n",
    "    feature_collection = FeatureCollection(feature_list)\n",
    "\n",
    "folium.GeoJson(feature_collection, name='isochrone').add_to(m)\n",
    "\n",
    "m"
   ]
  },
  {
   "cell_type": "markdown",
   "metadata": {},
   "source": [
    "Next up we see an example how a larger CSV file can be converted to isochrones. First import the Pandas library and read in a file with school location coordinates to a variable. "
   ]
  },
  {
   "cell_type": "code",
   "execution_count": null,
   "metadata": {},
   "outputs": [],
   "source": [
    "import pandas as pd\n",
    "\n",
    "schools = pd.read_csv('jamaica_schools.csv')\n",
    "\n",
    "print(schools.head)"
   ]
  },
  {
   "cell_type": "markdown",
   "metadata": {},
   "source": [
    "Next we will loop through the CSV file and generate an output for each coordinate pair in the file. We wil add id and name fields to each feature."
   ]
  },
  {
   "cell_type": "code",
   "execution_count": null,
   "metadata": {},
   "outputs": [],
   "source": [
    "api_url =  'http://localhost:8989/isochrone'\n",
    "api_params = {\n",
    "    'point': '',\n",
    "    'time_limit': '',\n",
    "    'vehicle': '',\n",
    "    'buckets': '',\n",
    "    'reverse_flow': ''\n",
    "}\n",
    "\n",
    "for index, row in schools.iterrows():\n",
    "\n",
    "    id = str(row['fid'])\n",
    "    schoolname = str(row['Name'])\n",
    "    startY = str(row['Latitude'])\n",
    "    startX = str(row['Longitude'])\n",
    "    startPoint = [startY, startX]\n",
    "\n",
    "    travelTime = 7200\n",
    "    # Specify which time the vehicle should travel. In seconds.\n",
    "\n",
    "    vehicleType = 'hike'\n",
    "    # The vehicle profile for which the route should be calculated.\n",
    "\n",
    "    bucketNo = 4\n",
    "    # Number by which to divide the given time_limit to create buckets nested isochrones of time intervals time_limit-n*time_limit/buckets.\n",
    "\n",
    "    reverseFlow = 'true'\n",
    "    # If false the flow goes from point to the polygon, if true the flow goes from the polygon \"inside\" to the point.\n",
    "    \n",
    "    startCoordinates = \",\".join(map(str, startPoint))\n",
    "    api_params.update(point=startCoordinates, time_limit=travelTime, vehicle = vehicleType, buckets = bucketNo, reverse_flow = reverseFlow)\n",
    "\n",
    "    \n",
    "    r = requests.get(api_url, params=api_params)\n",
    "    isochrone = r.json()\n",
    "\n",
    "    try:\n",
    "        r = requests.get(api_url, params=api_params)\n",
    "        isochrone = r.json()\n",
    "        \n",
    "        feature_list = []\n",
    "        i = 0\n",
    "        \n",
    "        for i in range(0,4):\n",
    "            coordinates = isochrone['polygons'][i]['geometry']['coordinates']\n",
    "            \n",
    "            bucket_feature = Feature(geometry = Polygon(coordinates), properties={'id': id, 'bucket': i, 'name': schoolname})   \n",
    "            feature_list.append(bucket_feature)\n",
    "            \n",
    "            fileName = 'isochrones/' + str(id) + '_iso'\n",
    "            \n",
    "            feature_collection = FeatureCollection(feature_list)\n",
    "            saveFile = open('{0}.geojson'.format(fileName), 'w')\n",
    "            saveFile.write(str(feature_collection))\n",
    "            saveFile.close()\n",
    "            \n",
    "        \n",
    "    except:\n",
    "        pass"
   ]
  },
  {
   "cell_type": "markdown",
   "metadata": {},
   "source": [
    "This was a very simple notebook example.\n"
   ]
  }
 ],
 "metadata": {
  "kernelspec": {
   "display_name": "Python 3 (ipykernel)",
   "language": "python",
   "name": "python3"
  },
  "language_info": {
   "codemirror_mode": {
    "name": "ipython",
    "version": 3
   },
   "file_extension": ".py",
   "mimetype": "text/x-python",
   "name": "python",
   "nbconvert_exporter": "python",
   "pygments_lexer": "ipython3",
   "version": "3.9.7"
  }
 },
 "nbformat": 4,
 "nbformat_minor": 2
}
